{
 "cells": [
  {
   "cell_type": "markdown",
   "metadata": {},
   "source": [
    "# Thing"
   ]
  },
  {
   "cell_type": "code",
   "execution_count": null,
   "metadata": {},
   "outputs": [],
   "source": [
    "thing = {\n",
    "    \"name\": \"TECO DustTracker\",\n",
    "    \"description\": \"Version 1.0\"\n",
    "}"
   ]
  },
  {
   "cell_type": "markdown",
   "metadata": {},
   "source": [
    "# Datastreams"
   ]
  },
  {
   "cell_type": "code",
   "execution_count": null,
   "metadata": {},
   "outputs": [],
   "source": [
    "datastream_PM10 = {\n",
    "    \"name\": \"PM10 Datastream\",\n",
    "    \"description\": \"Collection of PM10 measurements\",\n",
    "    \"unitOfMeasurement\": {\n",
    "        \"name\": \"microgram per cubic meter\",\n",
    "        \"symbol\": \"ug/m^3\",\n",
    "        \"definition\": \"none\"\n",
    "    },\n",
    "    \"observationType\": \"http://www.opengis.net/def/observationType/OGC-OM/2.0/OM_Measurement\"\n",
    "}\n",
    "\n",
    "datastream_PM25 = {\n",
    "    \"name\": \"PM2.5 Datastream\",\n",
    "    \"description\": \"Collection of PM2.5 measurements\",\n",
    "    \"unitOfMeasurement\": {\n",
    "        \"name\": \"microgram per cubic meter\",\n",
    "        \"symbol\": \"ug/m^3\",\n",
    "        \"definition\": \"none\"\n",
    "    },\n",
    "    \"observationType\": \"http://www.opengis.net/def/observationType/OGC-OM/2.0/OM_Measurement\"\n",
    "}\n",
    "\n",
    "datastream_temp = {\n",
    "    \"name\": \"Temperature Datastream\",\n",
    "    \"description\": \"Collection of temperature measurements\",\n",
    "    \"unitOfMeasurement\": {\n",
    "        \"name\": \"degree Celsius\",\n",
    "        \"symbol\": \"degC\",\n",
    "        \"definition\": \"http://www.qudt.org/qudt/owl/1.0.0/unit/Instances.html#DegreeCelsius\"\n",
    "    },\n",
    "    \"observationType\": \"http://www.opengis.net/def/observationType/OGC-OM/2.0/OM_Measurement\"\n",
    "}\n",
    "\n",
    "datastream_hum = {\n",
    "    \"name\": \"Humidity Datastream\",\n",
    "    \"description\": \"Collection of humidity measurements\",\n",
    "    \"unitOfMeasurement\": {\n",
    "        \"name\": \"percent\",\n",
    "        \"symbol\": \"%\",\n",
    "        \"definition\": \"http://www.qudt.org/qudt/owl/1.0.0/unit/Instances.html#Percent\"\n",
    "    },\n",
    "    \"observationType\": \"http://www.opengis.net/def/observationType/OGC-OM/2.0/OM_Measurement\"\n",
    "}\n",
    "\n",
    "datastream_atpress = {\n",
    "    \"name\": \"Atmospheric Pressure Datastream\",\n",
    "    \"description\": \"Collection of atmospheric Pressure measurements\",\n",
    "    \"unitOfMeasurement\": {\n",
    "        \"name\": \"Pascal\",\n",
    "        \"symbol\": \"Pa\",\n",
    "        \"definition\": \"http://www.qudt.org/qudt/owl/1.0.0/unit/Instances.html#Pascal\"\n",
    "    },\n",
    "    \"observationType\": \"http://www.opengis.net/def/observationType/OGC-OM/2.0/OM_Measurement\"\n",
    "}"
   ]
  },
  {
   "cell_type": "markdown",
   "metadata": {},
   "source": [
    "# Observed Properties"
   ]
  },
  {
   "cell_type": "code",
   "execution_count": null,
   "metadata": {},
   "outputs": [],
   "source": [
    "observedproperty_PM10 = {\n",
    "    \"name\": \"PM10\",\n",
    "    \"description\": \"Particulate matter with an approximate diameter of less than 10 micrometers\",\n",
    "    \"definition\": \"https://www.eea.europa.eu/themes/air/air-quality/resources/glossary/pm10\",\n",
    "    \"@iot.id\": \"PM10\"\n",
    "}\n",
    "\n",
    "observedproperty_PM25 = {\n",
    "    \"name\": \"PM2.5\",\n",
    "    \"description\": \"Particulate matter with an approximate diameter of less than 2.5 micrometers\",\n",
    "    \"definition\": \"https://www.eea.europa.eu/themes/air/air-quality/resources/glossary/pm10\",\n",
    "    \"@iot.id\": \"PM25\"\n",
    "}\n",
    "\n",
    "observedproperty_temp = {\n",
    "    \"name\": \"Temperature\",\n",
    "    \"description\": \"The degree or intensity of heat present in the area\",\n",
    "    \"definition\": \"http://www.qudt.org/qudt/owl/1.0.0/quantity/Instances.html#AreaTemperature\",\n",
    "    \"@iot.id\": \"temperature\"\n",
    "}\n",
    "\n",
    "observedproperty_hum = {\n",
    "    \"name\": \"Humidity\",\n",
    "    \"description\": \"Absolute humidity is the mass of water in a particular volume of air.\",\n",
    "    \"definition\": \"http://www.qudt.org/qudt/owl/1.0.0/quantity/Instances.html#AbsoluteHumidity\",\n",
    "    \"@iot.id\": \"humidity\"\n",
    "}\n",
    "\n",
    "observedproperty_atpress = {\n",
    "    \"name\": \"Atmospheric Pressure\",\n",
    "    \"description\": \"The pressure exerted at a point due to the presence of an atmosphere\",\n",
    "    \"definition\": \"http://www.qudt.org/qudt/owl/1.0.0/quantity/Instances.html#AtmosphericPressure\",\n",
    "    \"@iot.id\": \"atmospheric_pressure\"\n",
    "}"
   ]
  },
  {
   "cell_type": "markdown",
   "metadata": {},
   "source": [
    "# Sensors"
   ]
  },
  {
   "cell_type": "code",
   "execution_count": null,
   "metadata": {},
   "outputs": [],
   "source": [
    "sensor_SDS011 = {\n",
    "    \"name\": \"Nova SDS011\",\n",
    "    \"description\": \"Particulate matter sensor for PM10 and PM2.5\",\n",
    "    \"encodingType\": \"application/pdf\",\n",
    "    \"metadata\": \"http://www.teco.edu/~koepke/SDS011.pdf\",\n",
    "    \"@iot.id\": \"SDS011\"\n",
    "}\n",
    "\n",
    "sensor_BME280 = {\n",
    "    \"name\": \"Bosch BME280\",\n",
    "    \"description\": \"Temperature, humidity and atmospheric pressure sensor\",\n",
    "    \"encodingType\": \"application/pdf\",\n",
    "    \"metadata\": \"http://www.teco.edu/~koepke/BME280.pdf\",\n",
    "    \"@iot.id\": \"BME280\"\n",
    "}"
   ]
  },
  {
   "cell_type": "markdown",
   "metadata": {},
   "source": [
    "# Events"
   ]
  },
  {
   "cell_type": "code",
   "execution_count": null,
   "metadata": {},
   "outputs": [],
   "source": [
    "event = {\n",
    "    \"phenomenonTime\": \"1963-11-22T18:30:34.000Z\",\n",
    "    \"result\": -1.0,\n",
    "    \"FeatureOfInterest\": {\n",
    "        \"name\": \"Dallas\",\n",
    "        \"description\": \"Dealey Plaza\",\n",
    "        \"encodingType\": \"application/vnd.geo+json\",\n",
    "        \"feature\": {\n",
    "            \"type\": \"Point\",\n",
    "            \"coordinates\": [-96.80867, 32.77903]\n",
    "        }\n",
    "    }\n",
    "}"
   ]
  },
  {
   "cell_type": "code",
   "execution_count": null,
   "metadata": {},
   "outputs": [],
   "source": []
  }
 ],
 "metadata": {
  "kernelspec": {
   "display_name": "UDP-Server-xNZRalNG",
   "language": "python",
   "name": "udp-server-xnzralng"
  },
  "language_info": {
   "codemirror_mode": {
    "name": "ipython",
    "version": 3
   },
   "file_extension": ".py",
   "mimetype": "text/x-python",
   "name": "python",
   "nbconvert_exporter": "python",
   "pygments_lexer": "ipython3",
   "version": "3.6.6"
  }
 },
 "nbformat": 4,
 "nbformat_minor": 2
}
