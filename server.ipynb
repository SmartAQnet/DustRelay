{
 "cells": [
  {
   "cell_type": "markdown",
   "metadata": {},
   "source": [
    "# imports"
   ]
  },
  {
   "cell_type": "code",
   "execution_count": null,
   "metadata": {},
   "outputs": [],
   "source": [
    "import sys\n",
    "import socket\n",
    "import queue\n",
    "import threading\n",
    "import time\n",
    "import logging\n",
    "\n",
    "try:\n",
    "    get_ipython()\n",
    "    isnotebook = True\n",
    "except Exception:\n",
    "    isnotebook = False\n",
    "    \n",
    "if isnotebook:\n",
    "    # convert notebooks\n",
    "    !jupyter nbconvert --to script server.ipynb\n",
    "    !jupyter nbconvert --to script server_worker.ipynb\n",
    "    \n",
    "import server_worker"
   ]
  },
  {
   "cell_type": "markdown",
   "metadata": {},
   "source": [
    "# settings"
   ]
  },
  {
   "cell_type": "code",
   "execution_count": null,
   "metadata": {},
   "outputs": [],
   "source": [
    "server_address = (\"win10-koepke.teco.edu\", 1337)\n",
    "recvbuffsize = 1024\n",
    "worker_waitseconds = 2.0\n",
    "sensorthings_address = \"http://smartaqnet-dev.teco.edu:8080/FROST-Server/v1.0\""
   ]
  },
  {
   "cell_type": "markdown",
   "metadata": {},
   "source": [
    "# logging"
   ]
  },
  {
   "cell_type": "code",
   "execution_count": null,
   "metadata": {},
   "outputs": [],
   "source": [
    "log = logging.getLogger(\"server\")\n",
    "log.setLevel(logging.DEBUG)\n",
    "formatter = logging.Formatter(\"%(asctime)s - %(levelname)s(%(name)s): %(message)s\")\n",
    "\n",
    "fh = logging.FileHandler('./log')\n",
    "fh.setLevel(logging.DEBUG)\n",
    "fh.setFormatter(formatter)\n",
    "log.addHandler(fh)\n",
    "\n",
    "sh = logging.StreamHandler(sys.stderr)\n",
    "sh.setLevel(logging.ERROR)\n",
    "sh.setFormatter(formatter)\n",
    "log.addHandler(sh)"
   ]
  },
  {
   "cell_type": "markdown",
   "metadata": {},
   "source": [
    "# create socket"
   ]
  },
  {
   "cell_type": "code",
   "execution_count": null,
   "metadata": {},
   "outputs": [],
   "source": [
    "log.info(\"starting server\")\n",
    "print(\"starting server\")\n",
    "\n",
    "sock = socket.socket(socket.AF_INET, socket.SOCK_DGRAM)\n",
    "sock.bind(server_address)"
   ]
  },
  {
   "cell_type": "markdown",
   "metadata": {},
   "source": [
    "# init"
   ]
  },
  {
   "cell_type": "code",
   "execution_count": null,
   "metadata": {},
   "outputs": [],
   "source": [
    "threadqueue = queue.Queue()"
   ]
  },
  {
   "cell_type": "markdown",
   "metadata": {},
   "source": [
    "# listener (thread)"
   ]
  },
  {
   "cell_type": "code",
   "execution_count": null,
   "metadata": {},
   "outputs": [],
   "source": [
    "def listenerthread(q):\n",
    "    while True:\n",
    "        try:\n",
    "            data, address = sock.recvfrom(recvbuffsize)\n",
    "        except Exception:\n",
    "            log.error(\"cannot receive UDP packet\")\n",
    "            continue\n",
    "        \n",
    "        q.put((data, address))"
   ]
  },
  {
   "cell_type": "markdown",
   "metadata": {},
   "source": [
    "# worker (thread)"
   ]
  },
  {
   "cell_type": "code",
   "execution_count": null,
   "metadata": {},
   "outputs": [],
   "source": [
    "def workerthread(q):    \n",
    "    while True:\n",
    "        if q.empty():\n",
    "            time.sleep(worker_waitseconds)\n",
    "            continue\n",
    "        \n",
    "        qdata = q.get()\n",
    "        \n",
    "        runner = threading.Thread(target=server_worker.run, args=(q, sensorthings_address, qdata))\n",
    "        runner.setDaemon(True)\n",
    "        runner.start()"
   ]
  },
  {
   "cell_type": "markdown",
   "metadata": {},
   "source": [
    "# start threads"
   ]
  },
  {
   "cell_type": "code",
   "execution_count": null,
   "metadata": {},
   "outputs": [],
   "source": [
    "worker = threading.Thread(target=workerthread, args=(threadqueue,))\n",
    "worker.setDaemon(True)\n",
    "worker.start()\n",
    "\n",
    "listener = threading.Thread(target=listenerthread, args=(threadqueue,))\n",
    "listener.setDaemon(True)\n",
    "listener.start()"
   ]
  },
  {
   "cell_type": "markdown",
   "metadata": {},
   "source": [
    "# keep alive"
   ]
  },
  {
   "cell_type": "code",
   "execution_count": null,
   "metadata": {},
   "outputs": [],
   "source": [
    "if not isnotebook:\n",
    "    try:\n",
    "        while True:\n",
    "            time.sleep(5.0)\n",
    "    except:\n",
    "        log.info(\"waiting for unfinished tasks\")\n",
    "        print(\"waiting for unfinished tasks\")\n",
    "        threadqueue.join()\n",
    "        \n",
    "        for handler in log.handlers:\n",
    "            handler.close()\n",
    "            log.removeFilter(handler)\n",
    "        \n",
    "        log.info(\"closing server\")\n",
    "        print(\"closing server\")\n",
    "        sock.close()\n",
    "        quit()"
   ]
  },
  {
   "cell_type": "code",
   "execution_count": null,
   "metadata": {},
   "outputs": [],
   "source": []
  }
 ],
 "metadata": {
  "kernelspec": {
   "display_name": "UDP-Server-xNZRalNG",
   "language": "python",
   "name": "udp-server-xnzralng"
  },
  "language_info": {
   "codemirror_mode": {
    "name": "ipython",
    "version": 3
   },
   "file_extension": ".py",
   "mimetype": "text/x-python",
   "name": "python",
   "nbconvert_exporter": "python",
   "pygments_lexer": "ipython3",
   "version": "3.6.6"
  }
 },
 "nbformat": 4,
 "nbformat_minor": 2
}
